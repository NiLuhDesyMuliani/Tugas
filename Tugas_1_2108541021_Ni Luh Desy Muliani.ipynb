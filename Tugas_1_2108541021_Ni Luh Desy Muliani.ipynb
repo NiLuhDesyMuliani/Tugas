{
 "cells": [
  {
   "cell_type": "markdown",
   "id": "0efb0914",
   "metadata": {},
   "source": [
    "# 5.1 Print"
   ]
  },
  {
   "cell_type": "code",
   "execution_count": null,
   "id": "9c74bdb3",
   "metadata": {},
   "outputs": [],
   "source": [
    "print('Mari Belajar Algoritma!')"
   ]
  },
  {
   "cell_type": "code",
   "execution_count": null,
   "id": "ed828019",
   "metadata": {},
   "outputs": [],
   "source": [
    "print(\"Mari Belajar Algoritma\")"
   ]
  },
  {
   "cell_type": "code",
   "execution_count": null,
   "id": "0609fee0",
   "metadata": {},
   "outputs": [],
   "source": [
    "print(\"I think Sisa doesn't drink to much\")"
   ]
  },
  {
   "cell_type": "code",
   "execution_count": null,
   "id": "0b9843e0",
   "metadata": {},
   "outputs": [],
   "source": [
    "print('I think Sisa doesn't drink to much')"
   ]
  },
  {
   "cell_type": "code",
   "execution_count": null,
   "id": "71d11ffd",
   "metadata": {},
   "outputs": [],
   "source": [
    "print('They call him a \"CRAZY RICH ASIAN\"')"
   ]
  },
  {
   "cell_type": "code",
   "execution_count": null,
   "id": "beff7d66",
   "metadata": {},
   "outputs": [],
   "source": [
    "print(\"They call him a \"CRAZY RICH ASIAN\"\")"
   ]
  },
  {
   "cell_type": "code",
   "execution_count": null,
   "id": "267a4021",
   "metadata": {},
   "outputs": [],
   "source": [
    "jumlah_bulan = 10\n",
    "uang_ditabung = 80000\n",
    "print(jumlah_bulan)\n",
    "print(uang_ditabung)\n",
    "print(jumlah_bulan*uang_ditabung)"
   ]
  },
  {
   "cell_type": "code",
   "execution_count": null,
   "id": "30f5951a",
   "metadata": {},
   "outputs": [],
   "source": [
    "nama_panggilan = 'Rendy'\n",
    "nama_keluarga = 'Santosa'\n",
    "spasi = ' '\n",
    "print(nama_panggilan + spasi + nama_keluarga)"
   ]
  },
  {
   "cell_type": "markdown",
   "id": "45633d97",
   "metadata": {},
   "source": [
    "# 5.2 Input"
   ]
  },
  {
   "cell_type": "code",
   "execution_count": null,
   "id": "966bd41f",
   "metadata": {},
   "outputs": [],
   "source": [
    "nama = input(\"Siapa namamu? \")\n",
    "impian = input('Pekerjaan apa yang kamu impikan di masa depan, ' + nama +\"? \")\n",
    "print(\"Semoga impianmu menjadi \" + impian + \" terwujud ya, semangat terus \" +  nama + \"!\")"
   ]
  },
  {
   "cell_type": "markdown",
   "id": "776132fc",
   "metadata": {},
   "source": [
    "# 5.3 Tipe Data Pada Phyton"
   ]
  },
  {
   "cell_type": "code",
   "execution_count": null,
   "id": "d60038d9",
   "metadata": {},
   "outputs": [],
   "source": [
    "utang_di_rentenir = input(\"Berapakah utang anda di rentenir? \")\n",
    "utang_di_warung = input(\"Berapakah utang anda di warung? \")\n",
    "print(\"Total utang anda adalah Rp \" + utang_di_rentenir + utang_di_warung)"
   ]
  },
  {
   "cell_type": "code",
   "execution_count": null,
   "id": "907733c4",
   "metadata": {},
   "outputs": [],
   "source": [
    "utang_di_rentenir = input(\"Berapakah utang anda di rentenir? \")\n",
    "utang_di_warung = input(\"Berapakah utang anda di warung? \")\n",
    "total_utang = int(utang_di_rentenir) + int(utang_di_warung)\n",
    "print(\"Total utang anda adalah Rp \" + str(total_utang))"
   ]
  },
  {
   "cell_type": "code",
   "execution_count": null,
   "id": "9c87a959",
   "metadata": {},
   "outputs": [],
   "source": [
    "type(utang_di_rentenir)"
   ]
  },
  {
   "cell_type": "code",
   "execution_count": null,
   "id": "ad69d99f",
   "metadata": {},
   "outputs": [],
   "source": [
    "type(utang_di_warung)"
   ]
  },
  {
   "cell_type": "code",
   "execution_count": null,
   "id": "da91d36c",
   "metadata": {},
   "outputs": [],
   "source": [
    "type(total_utang)"
   ]
  },
  {
   "cell_type": "markdown",
   "id": "cc469206",
   "metadata": {},
   "source": [
    "### Latihan"
   ]
  },
  {
   "cell_type": "code",
   "execution_count": null,
   "id": "445e15c0",
   "metadata": {},
   "outputs": [],
   "source": [
    "gaji = input(\"Uang gaji saya per bulan adalah \")\n",
    "lama_bekerja = input(\"Dalam hitungan bulan, saya sudah bekerja selama \")\n",
    "total_gaji = float(gaji) * float(lama_bekerja)\n",
    "print(\"Total gaji saya sampai saat ini adalah \"+ str(total_gaji))"
   ]
  },
  {
   "cell_type": "markdown",
   "id": "9e9dc899",
   "metadata": {},
   "source": [
    "# 5.4 Formatted String"
   ]
  },
  {
   "cell_type": "code",
   "execution_count": null,
   "id": "fe892f78",
   "metadata": {},
   "outputs": [],
   "source": [
    "Nama = \"Sudi\"\n",
    "Pendidikan_terakhir = \"SMA Nusantara\"\n",
    "Tahun = \"2020\"\n",
    "print(Nama + \" pernah belajar di \" + Pendidikan_terakhir + \" pada tahun \" + Tahun + \".\")"
   ]
  },
  {
   "cell_type": "code",
   "execution_count": null,
   "id": "11d6a5ef",
   "metadata": {},
   "outputs": [],
   "source": [
    "print(f'{Nama} pernah belajar di {Pendidikan_terakhir} pada tahun {Tahun}.')"
   ]
  },
  {
   "cell_type": "code",
   "execution_count": null,
   "id": "cad2f050",
   "metadata": {},
   "outputs": [],
   "source": [
    "print(f\"{Nama} pernah belajar di {Pendidikan_terakhir} pada tahun {Tahun}.\")"
   ]
  },
  {
   "cell_type": "markdown",
   "id": "992777c9",
   "metadata": {},
   "source": [
    "# 5.5 String Index"
   ]
  },
  {
   "cell_type": "code",
   "execution_count": null,
   "id": "4885f2a4",
   "metadata": {},
   "outputs": [],
   "source": [
    "univ = 'mari ke universitas udayana'"
   ]
  },
  {
   "cell_type": "code",
   "execution_count": null,
   "id": "26137d24",
   "metadata": {},
   "outputs": [],
   "source": [
    "print(univ[0:6])"
   ]
  },
  {
   "cell_type": "code",
   "execution_count": null,
   "id": "3343f33f",
   "metadata": {},
   "outputs": [],
   "source": [
    "print(univ[0:-2])"
   ]
  },
  {
   "cell_type": "code",
   "execution_count": null,
   "id": "2595832f",
   "metadata": {},
   "outputs": [],
   "source": [
    "print(univ[6:-4])"
   ]
  },
  {
   "cell_type": "code",
   "execution_count": null,
   "id": "1086c18d",
   "metadata": {},
   "outputs": [],
   "source": [
    "print(univ[3:-2:6])"
   ]
  },
  {
   "cell_type": "code",
   "execution_count": null,
   "id": "e43bbd5d",
   "metadata": {},
   "outputs": [],
   "source": [
    "print(univ[:-6])"
   ]
  },
  {
   "cell_type": "code",
   "execution_count": null,
   "id": "e59fdfcf",
   "metadata": {},
   "outputs": [],
   "source": [
    "print(univ[5:])"
   ]
  },
  {
   "cell_type": "code",
   "execution_count": null,
   "id": "d7916d8f",
   "metadata": {},
   "outputs": [],
   "source": [
    "print(univ[:])"
   ]
  },
  {
   "cell_type": "markdown",
   "id": "f2a15bfb",
   "metadata": {},
   "source": [
    "# 5.6 Strings Methods"
   ]
  },
  {
   "cell_type": "code",
   "execution_count": null,
   "id": "99ecb633",
   "metadata": {},
   "outputs": [],
   "source": [
    "ucapan = 'Semangat Belajar Ya'"
   ]
  },
  {
   "cell_type": "code",
   "execution_count": null,
   "id": "e49f850a",
   "metadata": {},
   "outputs": [],
   "source": [
    "print(len(ucapan))"
   ]
  },
  {
   "cell_type": "code",
   "execution_count": null,
   "id": "aeaa643c",
   "metadata": {},
   "outputs": [],
   "source": [
    "ucapan.upper()"
   ]
  },
  {
   "cell_type": "code",
   "execution_count": null,
   "id": "58912365",
   "metadata": {},
   "outputs": [],
   "source": [
    "ucapan.lower()"
   ]
  },
  {
   "cell_type": "code",
   "execution_count": null,
   "id": "614af67a",
   "metadata": {},
   "outputs": [],
   "source": [
    "ucapan.find('Ya')"
   ]
  },
  {
   "cell_type": "code",
   "execution_count": null,
   "id": "ee0a0c06",
   "metadata": {},
   "outputs": [],
   "source": [
    "ucapan.find('belajar')"
   ]
  },
  {
   "cell_type": "code",
   "execution_count": null,
   "id": "2797067f",
   "metadata": {},
   "outputs": [],
   "source": [
    "judul.replace('Belajar', 'Bekerja')"
   ]
  },
  {
   "cell_type": "code",
   "execution_count": null,
   "id": "b572b963",
   "metadata": {},
   "outputs": [],
   "source": [
    "judul.replace('belajar', 'Bekerja')"
   ]
  },
  {
   "cell_type": "code",
   "execution_count": null,
   "id": "d429f373",
   "metadata": {},
   "outputs": [],
   "source": [
    "print('Semangat'in ucapan)"
   ]
  },
  {
   "cell_type": "code",
   "execution_count": null,
   "id": "f61b2794",
   "metadata": {},
   "outputs": [],
   "source": [
    "print('ya' in ucapan)"
   ]
  },
  {
   "cell_type": "markdown",
   "id": "78940ea6",
   "metadata": {},
   "source": [
    "# 5.7 Operasi Matematika di Phyton"
   ]
  },
  {
   "cell_type": "code",
   "execution_count": null,
   "id": "93f8eb65",
   "metadata": {},
   "outputs": [],
   "source": [
    "print(7+82)\n",
    "print(5-45)\n",
    "print(76*2)\n",
    "print(28/5)\n",
    "print(10//7)\n",
    "print(67%5)\n",
    "print(10**6)\n",
    "a=4\n",
    "a+=5\n",
    "print(a)\n",
    "a-=7\n",
    "print(a)\n",
    "a*=4\n",
    "print(a)"
   ]
  },
  {
   "cell_type": "markdown",
   "id": "6f1c6b3a",
   "metadata": {},
   "source": [
    "# 5.8 Operator Perbandingan di Phyton"
   ]
  },
  {
   "cell_type": "code",
   "execution_count": null,
   "id": "b9dc6d25",
   "metadata": {},
   "outputs": [],
   "source": [
    "d = 78>45\n",
    "print(d)\n",
    "e = 67<76\n",
    "print(e)\n",
    "f = 54>=45\n",
    "print(f)\n",
    "g = 89<=98\n",
    "print(g)\n",
    "h = 78==78\n",
    "print(h)\n",
    "i = 99!=87\n",
    "print(i)"
   ]
  },
  {
   "cell_type": "code",
   "execution_count": null,
   "id": "a141ec94",
   "metadata": {},
   "outputs": [],
   "source": [
    "d = 78<45\n",
    "print(d)\n",
    "e = 67>76\n",
    "print(e)\n",
    "f = 54<=45\n",
    "print(f)\n",
    "g = 89>=98\n",
    "print(g)\n",
    "h = 79==78\n",
    "print(h)\n",
    "i = 99!=99\n",
    "print(i)"
   ]
  },
  {
   "cell_type": "markdown",
   "id": "57595e02",
   "metadata": {},
   "source": [
    "# 5.9 Operator Logika di Phyton"
   ]
  },
  {
   "cell_type": "code",
   "execution_count": null,
   "id": "f2ba8066",
   "metadata": {},
   "outputs": [],
   "source": [
    "teman_budi = 100\n",
    "teman_riska = 540\n",
    "print(teman_budi > 50 and teman_riska < 900)"
   ]
  },
  {
   "cell_type": "code",
   "execution_count": null,
   "id": "bf644fee",
   "metadata": {},
   "outputs": [],
   "source": [
    "print(teman_budi > 50 or teman_riska < 900)"
   ]
  },
  {
   "cell_type": "code",
   "execution_count": null,
   "id": "1423c45b",
   "metadata": {},
   "outputs": [],
   "source": [
    "print(teman_budi < 50 or teman_riska < 900)"
   ]
  },
  {
   "cell_type": "code",
   "execution_count": null,
   "id": "bf24f03b",
   "metadata": {},
   "outputs": [],
   "source": [
    "print(teman_budi > 50 or teman_riska > 900)"
   ]
  },
  {
   "cell_type": "code",
   "execution_count": null,
   "id": "ff5d02b7",
   "metadata": {},
   "outputs": [],
   "source": [
    "print(teman_budi < 50 or teman_riska > 900)"
   ]
  },
  {
   "cell_type": "code",
   "execution_count": null,
   "id": "85b5d3d1",
   "metadata": {},
   "outputs": [],
   "source": [
    "print(teman_budi < 50 and teman_riska < 900)"
   ]
  },
  {
   "cell_type": "code",
   "execution_count": null,
   "id": "9d8ebb5d",
   "metadata": {},
   "outputs": [],
   "source": [
    "print(teman_budi < 50 and teman_riska > 900)"
   ]
  },
  {
   "cell_type": "markdown",
   "id": "fa3948af",
   "metadata": {},
   "source": [
    "# 5.10 Operasi if di Phyton"
   ]
  },
  {
   "cell_type": "code",
   "execution_count": null,
   "id": "cca58ec6",
   "metadata": {},
   "outputs": [],
   "source": [
    "no_urut = float(input(\"No urut anda adalah \"))\n",
    "if no_urut >= 150:\n",
    "    print(\"Anda mendapatkan ruangan di lantai 5\")\n",
    "    print(\"Silahkan menuju ke ruangan melalui lift di samping kanan\")\n",
    "if no_urut < 150 and no_urut >= 120:\n",
    "    print(\"Anda mendapatkan ruangan di lantai 4\")\n",
    "    print(\"Silahkan menuju ke ruangan melalui lift di samping kiri\")\n",
    "if no_urut >= 85 and no_urut < 120:\n",
    "    print(\"Anda mendapatkan ruangan di lantai 3\")\n",
    "    print(\"Silahkan menuju ke ruangan melalui tangga di samping kanan\")\n",
    "if no_urut >= 45 and no_urut < 85:\n",
    "    print(\"Anda mendapatkan ruangan di lantai 2\")\n",
    "    print(\"Silahkan menuju ke ruangan melalui tangga di samping kiri\")\n",
    "if no_urut < 45:\n",
    "    print(\"Anda mendapatkan ruangan di lantai 1\")\n",
    "    print(\"Silahkan menuju ke ruangan di sebelah kanan\")"
   ]
  },
  {
   "cell_type": "code",
   "execution_count": null,
   "id": "0e595c63",
   "metadata": {},
   "outputs": [],
   "source": [
    "no_urut = float(input(\"No urut anda adalah \"))\n",
    "if no_urut >= 150:\n",
    "    print(\"Anda mendapatkan ruangan di lantai 5\")\n",
    "    print(\"Silahkan menuju ke ruangan melalui lift di samping kanan\")\n",
    "elif no_urut >= 120:\n",
    "    print(\"Anda mendapatkan ruangan di lantai 4\")\n",
    "    print(\"Silahkan menuju ke ruangan melalui lift di samping kiri\")\n",
    "elif no_urut >= 85:\n",
    "    print(\"Anda mendapatkan ruangan di lantai 3\")\n",
    "    print(\"Silahkan menuju ke ruangan melalui tangga di samping kanan\")\n",
    "elif no_urut >= 45:\n",
    "    print(\"Anda mendapatkan ruangan di lantai 2\")\n",
    "    print(\"Silahkan menuju ke ruangan melalui tangga di samping kiri\")\n",
    "else:\n",
    "    print(\"Anda mendapatkan ruangan di lantai 1\")\n",
    "    print(\"Silahkan menuju ke ruangan di sebelah kanan\")"
   ]
  },
  {
   "cell_type": "markdown",
   "id": "375414e7",
   "metadata": {},
   "source": [
    "### Latihan"
   ]
  },
  {
   "cell_type": "code",
   "execution_count": null,
   "id": "7604ad29",
   "metadata": {},
   "outputs": [],
   "source": [
    "kertas = float(input(\"Berapa jumlah kertas yang anda miliki? \"))\n",
    "rim_atau_kodi = input(\"Jumlah kertas dalam rim atau kodi? \")\n",
    "if rim_atau_kodi.upper() == 'RIM':\n",
    "    kertas = kertas/500\n",
    "    print(\"Jumlah kertas yang dimiliki adalah \" + str(kertas) + \" rim\")\n",
    "elif rim_atau_kodi.upper() == 'KODI':\n",
    "    kertas = kertas/20\n",
    "    print(\"Jumlah kertas yang dimiliki adalah \" + str(kertas) + \" kodi\")"
   ]
  },
  {
   "cell_type": "markdown",
   "id": "746ceed2",
   "metadata": {},
   "source": [
    "# 5.11 While loop"
   ]
  },
  {
   "cell_type": "code",
   "execution_count": null,
   "id": "a44e0681",
   "metadata": {},
   "outputs": [],
   "source": [
    "g = 10\n",
    "while g < 100:\n",
    "    print(\"Kelipatan \" + str(g)+ \" adalah genap\")\n",
    "    g +=10"
   ]
  },
  {
   "cell_type": "code",
   "execution_count": null,
   "id": "13c42206",
   "metadata": {},
   "outputs": [],
   "source": [
    "f = 5\n",
    "while f < 90:\n",
    "    print(f * '$')\n",
    "    f += 10"
   ]
  },
  {
   "cell_type": "code",
   "execution_count": null,
   "id": "c2c70cb7",
   "metadata": {},
   "outputs": [],
   "source": []
  }
 ],
 "metadata": {
  "kernelspec": {
   "display_name": "Python 3 (ipykernel)",
   "language": "python",
   "name": "python3"
  },
  "language_info": {
   "codemirror_mode": {
    "name": "ipython",
    "version": 3
   },
   "file_extension": ".py",
   "mimetype": "text/x-python",
   "name": "python",
   "nbconvert_exporter": "python",
   "pygments_lexer": "ipython3",
   "version": "3.9.7"
  }
 },
 "nbformat": 4,
 "nbformat_minor": 5
}

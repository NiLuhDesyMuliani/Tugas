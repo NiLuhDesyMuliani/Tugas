{
 "cells": [
  {
   "cell_type": "markdown",
   "id": "bf26cb94",
   "metadata": {},
   "source": [
    "# 5.12 List di Python"
   ]
  },
  {
   "cell_type": "code",
   "execution_count": null,
   "id": "9ad583b8",
   "metadata": {},
   "outputs": [],
   "source": [
    "mata_uang = ['rupiah', 'dollar', 'rupee', 'ringgit']\n",
    "print(mata_uang)"
   ]
  },
  {
   "cell_type": "code",
   "execution_count": null,
   "id": "7b9baee9",
   "metadata": {},
   "outputs": [],
   "source": [
    "print(mata_uang[0])"
   ]
  },
  {
   "cell_type": "code",
   "execution_count": null,
   "id": "b2112124",
   "metadata": {},
   "outputs": [],
   "source": [
    "print(mata_uang[3])"
   ]
  },
  {
   "cell_type": "code",
   "execution_count": null,
   "id": "82f229d6",
   "metadata": {},
   "outputs": [],
   "source": [
    "print(mata_uang[-2])"
   ]
  },
  {
   "cell_type": "code",
   "execution_count": null,
   "id": "d4bc1b40",
   "metadata": {},
   "outputs": [],
   "source": [
    "print(mata_uang[-4])"
   ]
  },
  {
   "cell_type": "code",
   "execution_count": null,
   "id": "426eaf04",
   "metadata": {},
   "outputs": [],
   "source": [
    "mata_uang[1] = 'euro'\n",
    "print(mata_uang)"
   ]
  },
  {
   "cell_type": "code",
   "execution_count": null,
   "id": "7427eb7e",
   "metadata": {},
   "outputs": [],
   "source": [
    "print(mata_uang[1:4])"
   ]
  },
  {
   "cell_type": "code",
   "execution_count": null,
   "id": "f34123a5",
   "metadata": {},
   "outputs": [],
   "source": [
    "# tidak merubah list\n",
    "print(mata_uang)"
   ]
  },
  {
   "cell_type": "markdown",
   "id": "786a3b49",
   "metadata": {},
   "source": [
    "# 5.13 Metoda List"
   ]
  },
  {
   "cell_type": "code",
   "execution_count": null,
   "id": "071d5002",
   "metadata": {},
   "outputs": [],
   "source": [
    "negara = ['Kanada', 'Brazil', 'Inggris']\n",
    "negara.append('Perancis')\n",
    "print(negara)"
   ]
  },
  {
   "cell_type": "code",
   "execution_count": null,
   "id": "199daaba",
   "metadata": {},
   "outputs": [],
   "source": [
    "negara.insert(0,'India')\n",
    "print(negara)"
   ]
  },
  {
   "cell_type": "code",
   "execution_count": null,
   "id": "d45916ec",
   "metadata": {},
   "outputs": [],
   "source": [
    "negara.remove('Brazil')\n",
    "print(negara)"
   ]
  },
  {
   "cell_type": "code",
   "execution_count": null,
   "id": "cd8e451b",
   "metadata": {},
   "outputs": [],
   "source": [
    "negara.insert(2,'India')\n",
    "print(negara)"
   ]
  },
  {
   "cell_type": "code",
   "execution_count": null,
   "id": "33ad8787",
   "metadata": {},
   "outputs": [],
   "source": [
    "print('Perancis' in negara)"
   ]
  },
  {
   "cell_type": "code",
   "execution_count": null,
   "id": "ac6478cb",
   "metadata": {},
   "outputs": [],
   "source": [
    "print('Rusia' in negara)"
   ]
  },
  {
   "cell_type": "code",
   "execution_count": null,
   "id": "25ae926f",
   "metadata": {},
   "outputs": [],
   "source": [
    "print(len(negara))"
   ]
  },
  {
   "cell_type": "markdown",
   "id": "813f23b5",
   "metadata": {},
   "source": [
    "# 5.14 For loop"
   ]
  },
  {
   "cell_type": "code",
   "execution_count": null,
   "id": "e44e693b",
   "metadata": {},
   "outputs": [],
   "source": [
    "warna = ['merah', 'biru', 'kuning', 'hijau', 'putih']\n",
    "for jenis in warna:\n",
    "    print(jenis)"
   ]
  },
  {
   "cell_type": "code",
   "execution_count": null,
   "id": "71377d04",
   "metadata": {},
   "outputs": [],
   "source": [
    "a = 0\n",
    "while a < len(warna):\n",
    "    print(warna[a])\n",
    "    a += 1"
   ]
  },
  {
   "cell_type": "markdown",
   "id": "86bfb68c",
   "metadata": {},
   "source": [
    "# 5.15 Fungsi Range"
   ]
  },
  {
   "cell_type": "code",
   "execution_count": null,
   "id": "44dc82e9",
   "metadata": {},
   "outputs": [],
   "source": [
    "angka = range(10)\n",
    "print(angka)"
   ]
  },
  {
   "cell_type": "code",
   "execution_count": null,
   "id": "4202deb2",
   "metadata": {},
   "outputs": [],
   "source": [
    "for anggota in angka:\n",
    "    print(anggota)"
   ]
  },
  {
   "cell_type": "code",
   "execution_count": null,
   "id": "d2dc69ce",
   "metadata": {},
   "outputs": [],
   "source": [
    "for anggota in range(25,34):\n",
    "    print(anggota)"
   ]
  },
  {
   "cell_type": "code",
   "execution_count": null,
   "id": "1c25b078",
   "metadata": {},
   "outputs": [],
   "source": [
    "for anggota in range(15,40,5):\n",
    "    print(anggota)"
   ]
  },
  {
   "cell_type": "markdown",
   "id": "5138d2d1",
   "metadata": {},
   "source": [
    "### Latihan"
   ]
  },
  {
   "cell_type": "markdown",
   "id": "7ceef4aa",
   "metadata": {},
   "source": [
    "#### Soal No 1"
   ]
  },
  {
   "cell_type": "code",
   "execution_count": null,
   "id": "0e495f4a",
   "metadata": {},
   "outputs": [],
   "source": [
    "data = [24,37,89,95,45,62,10]\n",
    "terbesar = data[0]\n",
    "for nilai in range(len(data)):\n",
    "    if data[nilai] > terbesar:\n",
    "        terbesar = data[nilai]\n",
    "print(terbesar)"
   ]
  },
  {
   "cell_type": "code",
   "execution_count": null,
   "id": "00d9563a",
   "metadata": {},
   "outputs": [],
   "source": [
    "data = [24,37,89,95,45,62,10]\n",
    "terbesar = data[0]\n",
    "for nilai in data:\n",
    "    if nilai > terbesar:\n",
    "        terbesar = nilai\n",
    "print(terbesar)"
   ]
  },
  {
   "cell_type": "markdown",
   "id": "21db8696",
   "metadata": {},
   "source": [
    "#### Soal No 2"
   ]
  },
  {
   "cell_type": "code",
   "execution_count": null,
   "id": "2bba3635",
   "metadata": {},
   "outputs": [],
   "source": [
    "data = [34,56,78,65,78,45,34,87,56]\n",
    "data_unik = []\n",
    "for nilai in data:\n",
    "    if nilai not in data_unik:\n",
    "        data_unik.append(nilai)\n",
    "print(data_unik)"
   ]
  },
  {
   "cell_type": "markdown",
   "id": "e9380f63",
   "metadata": {},
   "source": [
    "# 5.16 List 2 Dimensi"
   ]
  },
  {
   "cell_type": "code",
   "execution_count": null,
   "id": "d396a7c0",
   "metadata": {},
   "outputs": [],
   "source": [
    "matriks = [\n",
    "    [0,1,0,2,3,0],\n",
    "    [9,8,6,3,9,4],\n",
    "    [4,7,3,2,0,1],\n",
    "    [7,1,5,0,2,6]\n",
    "]\n",
    "print(matriks)"
   ]
  },
  {
   "cell_type": "code",
   "execution_count": null,
   "id": "ce1f3c1d",
   "metadata": {},
   "outputs": [],
   "source": [
    "matriks[3]"
   ]
  },
  {
   "cell_type": "code",
   "execution_count": null,
   "id": "0049cfe3",
   "metadata": {},
   "outputs": [],
   "source": [
    "matriks[1][3]"
   ]
  },
  {
   "cell_type": "code",
   "execution_count": null,
   "id": "3852396b",
   "metadata": {},
   "outputs": [],
   "source": [
    "matriks[1][3] = 25\n",
    "print(matriks[1][3])"
   ]
  },
  {
   "cell_type": "code",
   "execution_count": null,
   "id": "be7b371c",
   "metadata": {},
   "outputs": [],
   "source": [
    "matriks"
   ]
  },
  {
   "cell_type": "code",
   "execution_count": null,
   "id": "a2f6a2bb",
   "metadata": {},
   "outputs": [],
   "source": [
    "for baris in matriks:\n",
    "    print(baris)\n",
    "    for kolom in baris:\n",
    "        print(kolom)"
   ]
  },
  {
   "cell_type": "markdown",
   "id": "0f565b4b",
   "metadata": {},
   "source": [
    "# 5.17 Tuples"
   ]
  },
  {
   "cell_type": "code",
   "execution_count": null,
   "id": "52a205c3",
   "metadata": {},
   "outputs": [],
   "source": [
    "angka = (89,56,20,37,84,12)"
   ]
  },
  {
   "cell_type": "code",
   "execution_count": null,
   "id": "ffa2e5c5",
   "metadata": {},
   "outputs": [],
   "source": [
    "print(angka[4])"
   ]
  },
  {
   "cell_type": "code",
   "execution_count": null,
   "id": "adc12d05",
   "metadata": {},
   "outputs": [],
   "source": [
    "print(angka[2:4])"
   ]
  },
  {
   "cell_type": "code",
   "execution_count": null,
   "id": "7bb2b9f4",
   "metadata": {},
   "outputs": [],
   "source": [
    "for isi in angka[2:4]:\n",
    "    print(isi)"
   ]
  },
  {
   "cell_type": "code",
   "execution_count": null,
   "id": "1360fc70",
   "metadata": {},
   "outputs": [],
   "source": [
    "angka[5]"
   ]
  },
  {
   "cell_type": "code",
   "execution_count": null,
   "id": "04db687c",
   "metadata": {},
   "outputs": [],
   "source": [
    "angka.append(20)"
   ]
  },
  {
   "cell_type": "code",
   "execution_count": null,
   "id": "e02d0df4",
   "metadata": {},
   "outputs": [],
   "source": [
    "angka.remove(56)"
   ]
  },
  {
   "cell_type": "code",
   "execution_count": null,
   "id": "548200b7",
   "metadata": {},
   "outputs": [],
   "source": [
    "angka.count(56)"
   ]
  },
  {
   "cell_type": "code",
   "execution_count": null,
   "id": "19fe8b22",
   "metadata": {},
   "outputs": [],
   "source": [
    "angka.index(12)"
   ]
  },
  {
   "cell_type": "markdown",
   "id": "7111f4d9",
   "metadata": {},
   "source": [
    "# 5.18 Dictionaries"
   ]
  },
  {
   "cell_type": "code",
   "execution_count": null,
   "id": "d63ef69f",
   "metadata": {},
   "outputs": [],
   "source": [
    "data_orang = {\n",
    "    \"nama\" : \"Desy Muliani\",\n",
    "    \"umur\" : 19,\n",
    "    \"apakah_singel\" : True\n",
    "}"
   ]
  },
  {
   "cell_type": "code",
   "execution_count": null,
   "id": "bab9c0bd",
   "metadata": {},
   "outputs": [],
   "source": [
    "print(data_orang['nama'])"
   ]
  },
  {
   "cell_type": "code",
   "execution_count": null,
   "id": "cc34f7f0",
   "metadata": {},
   "outputs": [],
   "source": [
    "print(data_orang['Nama'])"
   ]
  },
  {
   "cell_type": "code",
   "execution_count": null,
   "id": "954b0235",
   "metadata": {},
   "outputs": [],
   "source": [
    "print(data_orang.get('nama'))"
   ]
  },
  {
   "cell_type": "code",
   "execution_count": null,
   "id": "a1907776",
   "metadata": {},
   "outputs": [],
   "source": [
    "print(data_orang.get('Nama'))"
   ]
  },
  {
   "cell_type": "code",
   "execution_count": null,
   "id": "bbb6817c",
   "metadata": {},
   "outputs": [],
   "source": [
    "print(data_orang.get('tanggal_lahir'))"
   ]
  },
  {
   "cell_type": "code",
   "execution_count": null,
   "id": "e9d55385",
   "metadata": {},
   "outputs": [],
   "source": [
    "print(data_orang.get('tanggal_lahir', '2-12-2002'))"
   ]
  },
  {
   "cell_type": "code",
   "execution_count": null,
   "id": "86e7d763",
   "metadata": {},
   "outputs": [],
   "source": [
    "print(data_orang)"
   ]
  },
  {
   "cell_type": "code",
   "execution_count": null,
   "id": "667b7469",
   "metadata": {},
   "outputs": [],
   "source": [
    "print(data_orang.get('tanggal_lahir'))"
   ]
  },
  {
   "cell_type": "code",
   "execution_count": null,
   "id": "ead6243f",
   "metadata": {},
   "outputs": [],
   "source": [
    "data_orang['HP'] = '089607800526'"
   ]
  },
  {
   "cell_type": "code",
   "execution_count": null,
   "id": "96252860",
   "metadata": {},
   "outputs": [],
   "source": [
    "print(data_orang[\"HP\"])"
   ]
  },
  {
   "cell_type": "code",
   "execution_count": null,
   "id": "16e7adeb",
   "metadata": {},
   "outputs": [],
   "source": [
    "print(data_orang)"
   ]
  },
  {
   "cell_type": "markdown",
   "id": "cd838940",
   "metadata": {},
   "source": [
    "#### Latihan"
   ]
  },
  {
   "cell_type": "code",
   "execution_count": null,
   "id": "c78f6d1a",
   "metadata": {},
   "outputs": [],
   "source": [
    "angka = {\n",
    "    \"0\" : \"nol\",\n",
    "    \"1\" : \"satu\",\n",
    "    \"2\" : \"dua\",\n",
    "    \"3\" : \"tiga\",\n",
    "    \"4\" : \"empat\",\n",
    "    \"5\" : \"lima\",\n",
    "    \"6\" : \"enam\",\n",
    "    \"7\" : \"tujuh\",\n",
    "    \"8\" : \"delapan\",\n",
    "    \"9\" : \"sembilan\"\n",
    "}"
   ]
  },
  {
   "cell_type": "code",
   "execution_count": null,
   "id": "dd8b31c7",
   "metadata": {},
   "outputs": [],
   "source": [
    "nomor_HP = input(\"Masukkan nomor HP anda : \")\n",
    "nomor_angka = \" \"\n",
    "for isi in nomor_HP:\n",
    "    nomor_angka = angka.get(isi) + \" \"\n",
    "    print(nomor_angka)"
   ]
  },
  {
   "cell_type": "markdown",
   "id": "cc5cb080",
   "metadata": {},
   "source": [
    "# 5.19 Fungsi dalam Python"
   ]
  },
  {
   "cell_type": "code",
   "execution_count": null,
   "id": "279c6298",
   "metadata": {},
   "outputs": [],
   "source": [
    "def nama_lengkap(nama_pertama, nama_terakhir):\n",
    "    print(f\"Nama lengkapnya adalah {nama_depan} {nama_belakang}\")"
   ]
  },
  {
   "cell_type": "code",
   "execution_count": null,
   "id": "30f48417",
   "metadata": {},
   "outputs": [],
   "source": [
    "nama_depan = input(\"Nama depan saya adalah \")\n",
    "nama_belakang = input(\"Nama belakang saya adalah \")\n",
    "nama_lengkap(nama_depan, nama_belakang) "
   ]
  },
  {
   "cell_type": "code",
   "execution_count": null,
   "id": "7956deb8",
   "metadata": {},
   "outputs": [],
   "source": [
    "nama_depan = input(\"Nama depan saya adalah \")\n",
    "nama_belakang = input(\"Nama belakang saya adalah \")\n",
    "print(f\"Nama lengkapnya adalah {nama_depan} {nama_belakang}\") "
   ]
  },
  {
   "cell_type": "markdown",
   "id": "b4e9368b",
   "metadata": {},
   "source": [
    "## 5.19.1 Tugas Fungsi pada Python"
   ]
  },
  {
   "cell_type": "code",
   "execution_count": null,
   "id": "7bbd0777",
   "metadata": {},
   "outputs": [],
   "source": [
    "def tekanan_benda(gaya,luas):\n",
    "    tekanan = gaya/luas\n",
    "    print(tekanan)"
   ]
  },
  {
   "cell_type": "code",
   "execution_count": null,
   "id": "ed059d16",
   "metadata": {},
   "outputs": [],
   "source": [
    "def tekanan_zat_padat(gaya,luas):\n",
    "    tekanan = gaya/luas\n",
    "    return (tekanan)"
   ]
  },
  {
   "cell_type": "code",
   "execution_count": null,
   "id": "821262d9",
   "metadata": {},
   "outputs": [],
   "source": [
    "tekanan_benda(40,20)"
   ]
  },
  {
   "cell_type": "code",
   "execution_count": null,
   "id": "035ba324",
   "metadata": {},
   "outputs": [],
   "source": [
    "tekanan_zat_padat(40,20)"
   ]
  },
  {
   "cell_type": "code",
   "execution_count": null,
   "id": "05cab365",
   "metadata": {},
   "outputs": [],
   "source": [
    "a = tekanan_benda(40,20)\n",
    "print(a)"
   ]
  },
  {
   "cell_type": "code",
   "execution_count": null,
   "id": "7959e0e4",
   "metadata": {},
   "outputs": [],
   "source": [
    "b = tekanan_zat_padat(40,20)\n",
    "print(b)"
   ]
  },
  {
   "cell_type": "markdown",
   "id": "3bb036af",
   "metadata": {},
   "source": [
    "#### Latihan"
   ]
  },
  {
   "cell_type": "code",
   "execution_count": null,
   "id": "e5f57c29",
   "metadata": {},
   "outputs": [],
   "source": [
    "def luas_segitiga(alas,tinggi):\n",
    "    luas = (1/2)*alas*tinggi\n",
    "    return luas\n",
    "def luas_lingkaran(jari_jari):\n",
    "    luas = np.pi*(jari_jari**2)\n",
    "    return luas\n",
    "def luas_persegi(sisi):\n",
    "    luas = sisi**2\n",
    "    return luas\n",
    "def luas_persegi_panjang(panjang,lebar):\n",
    "    luas = panjang*lebar\n",
    "    return luas"
   ]
  },
  {
   "cell_type": "code",
   "execution_count": null,
   "id": "57bda99b",
   "metadata": {},
   "outputs": [],
   "source": [
    "jenis_bidang = input(\"Tulis jenis bidangnya : \")\n",
    "if jenis_bidang.upper() == 'SEGITIGA':\n",
    "    alas = float(input('Berapakah panjang alasnya? '))\n",
    "    tinggi = float(input('Berapakah tingginya? '))\n",
    "    luas = luas_segitiga(alas,tinggi)\n",
    "    print(f\"Luas {jenis_bidang} adalah {luas}\")\n",
    "elif jenis_bidang.upper() == 'LINGKARAN':\n",
    "    jari_jari = float(input('Berapakah jari-jarinya? '))\n",
    "    luas = luas_lingkaran(jari_jari)\n",
    "    print(f\"Luas {jenis_bidang} adalah {luas}\")\n",
    "elif jenis_bidang.upper() == 'PERSEGI' or 'BUJUR SANGKAR':\n",
    "    sisi = float(input('Berapakah sisinya? '))\n",
    "    luas = luas_persegi(sisi)\n",
    "    print(f\"Luas {jenis_bidang} adalah {luas}\")\n",
    "elif jenis_bidang.upper() == 'PERSEGI PANJANG':\n",
    "    panjang = float(input('Berapakah panjangnya? '))\n",
    "    lebar = float(input('Berapakah lebarnya? '))\n",
    "    luas = luas_persegi_panjang(panjang,lebar)\n",
    "    print(f\"Luas {jenis_bidang} adalah {luas}\")\n",
    "else :\n",
    "    print(f\"Maaf bidang {jenis_bidang} yang anda masukkan tidak ada.\")\n",
    "    print(\"Pilihan cuma SEGITIGA, LINGKARAN, PERSEGI dan PERSEGI PANJANG.\")\n",
    "    print('Terimakasih')"
   ]
  },
  {
   "cell_type": "code",
   "execution_count": null,
   "id": "69726ba7",
   "metadata": {},
   "outputs": [],
   "source": []
  }
 ],
 "metadata": {
  "kernelspec": {
   "display_name": "Python 3 (ipykernel)",
   "language": "python",
   "name": "python3"
  },
  "language_info": {
   "codemirror_mode": {
    "name": "ipython",
    "version": 3
   },
   "file_extension": ".py",
   "mimetype": "text/x-python",
   "name": "python",
   "nbconvert_exporter": "python",
   "pygments_lexer": "ipython3",
   "version": "3.9.7"
  }
 },
 "nbformat": 4,
 "nbformat_minor": 5
}
